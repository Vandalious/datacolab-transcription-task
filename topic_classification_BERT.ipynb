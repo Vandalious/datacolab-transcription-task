{
  "nbformat": 4,
  "nbformat_minor": 0,
  "metadata": {
    "colab": {
      "provenance": [],
      "gpuType": "T4"
    },
    "kernelspec": {
      "name": "python3",
      "display_name": "Python 3"
    },
    "language_info": {
      "name": "python"
    },
    "accelerator": "GPU",
    "gpuClass": "standard"
  },
  "cells": [
    {
      "cell_type": "markdown",
      "source": [
        "# Arash Hajian nezhad | DataCoLab interview task | BERT training"
      ],
      "metadata": {
        "id": "hyc-lenZOKdU"
      }
    },
    {
      "cell_type": "markdown",
      "source": [
        "#### Installing `transformers` library"
      ],
      "metadata": {
        "id": "wNeHP_mgOG2K"
      }
    },
    {
      "cell_type": "code",
      "execution_count": 1,
      "metadata": {
        "id": "lbOGQvO4hu97"
      },
      "outputs": [],
      "source": [
        "%%capture\n",
        "!pip install transformers"
      ]
    },
    {
      "cell_type": "markdown",
      "source": [
        "#### Imports"
      ],
      "metadata": {
        "id": "DpmlJNNN_dZ4"
      }
    },
    {
      "cell_type": "code",
      "source": [
        "%matplotlib inline\n",
        "\n",
        "import ast\n",
        "\n",
        "import numpy as np\n",
        "import pandas as pd\n",
        "import matplotlib.pyplot as plt\n",
        "\n",
        "import torch\n",
        "import torch.nn as nn\n",
        "import torch.optim as optim\n",
        "import torch.nn.functional as F\n",
        "\n",
        "from torch.utils.data import Dataset, DataLoader\n",
        "\n",
        "from transformers import BertModel, BertTokenizer, logging\n",
        "logging.set_verbosity_error()\n",
        "\n",
        "from tqdm import tqdm"
      ],
      "metadata": {
        "id": "fGDIxdtYh3yY"
      },
      "execution_count": 2,
      "outputs": []
    },
    {
      "cell_type": "markdown",
      "source": [
        "#### Variables"
      ],
      "metadata": {
        "id": "UcOh95m0_fy2"
      }
    },
    {
      "cell_type": "code",
      "source": [
        "DEVICE = 'cuda:0' if torch.cuda.is_available() else 'cpu'\n",
        "df = pd.read_csv('/content/stories_processed.csv')\n",
        "df.head()"
      ],
      "metadata": {
        "colab": {
          "base_uri": "https://localhost:8080/",
          "height": 206
        },
        "id": "XR70M9ozqBl0",
        "outputId": "24efe621-671e-4512-f071-1917788d91a4"
      },
      "execution_count": 3,
      "outputs": [
        {
          "output_type": "execute_result",
          "data": {
            "text/plain": [
              "                                                body  \\\n",
              "0  hello and welcome to BBC News a woman who gave...   \n",
              "1  news now out of North Hollywood. A 14 yearold ...   \n",
              "2  homelessness his city's greatest failure. That...   \n",
              "3  Minneapolis police officer Kim Potter guilty o...   \n",
              "4  Judy an update now to the wildfires that wiped...   \n",
              "\n",
              "                                          labels  \n",
              "0  [0, 0, 1, 0, 0, 0, 0, 0, 0, 0, 0, 0, 0, 0, 1]  \n",
              "1  [0, 0, 0, 0, 0, 0, 0, 0, 0, 0, 0, 0, 0, 0, 1]  \n",
              "2  [0, 0, 1, 1, 0, 0, 0, 1, 0, 0, 0, 0, 0, 0, 0]  \n",
              "3  [0, 0, 1, 0, 0, 0, 0, 0, 0, 0, 0, 0, 0, 0, 1]  \n",
              "4  [0, 0, 0, 0, 0, 0, 0, 0, 0, 0, 0, 0, 0, 1, 1]  "
            ],
            "text/html": [
              "\n",
              "  <div id=\"df-105ebf92-b07a-475c-8d25-932a0049fc9a\">\n",
              "    <div class=\"colab-df-container\">\n",
              "      <div>\n",
              "<style scoped>\n",
              "    .dataframe tbody tr th:only-of-type {\n",
              "        vertical-align: middle;\n",
              "    }\n",
              "\n",
              "    .dataframe tbody tr th {\n",
              "        vertical-align: top;\n",
              "    }\n",
              "\n",
              "    .dataframe thead th {\n",
              "        text-align: right;\n",
              "    }\n",
              "</style>\n",
              "<table border=\"1\" class=\"dataframe\">\n",
              "  <thead>\n",
              "    <tr style=\"text-align: right;\">\n",
              "      <th></th>\n",
              "      <th>body</th>\n",
              "      <th>labels</th>\n",
              "    </tr>\n",
              "  </thead>\n",
              "  <tbody>\n",
              "    <tr>\n",
              "      <th>0</th>\n",
              "      <td>hello and welcome to BBC News a woman who gave...</td>\n",
              "      <td>[0, 0, 1, 0, 0, 0, 0, 0, 0, 0, 0, 0, 0, 0, 1]</td>\n",
              "    </tr>\n",
              "    <tr>\n",
              "      <th>1</th>\n",
              "      <td>news now out of North Hollywood. A 14 yearold ...</td>\n",
              "      <td>[0, 0, 0, 0, 0, 0, 0, 0, 0, 0, 0, 0, 0, 0, 1]</td>\n",
              "    </tr>\n",
              "    <tr>\n",
              "      <th>2</th>\n",
              "      <td>homelessness his city's greatest failure. That...</td>\n",
              "      <td>[0, 0, 1, 1, 0, 0, 0, 1, 0, 0, 0, 0, 0, 0, 0]</td>\n",
              "    </tr>\n",
              "    <tr>\n",
              "      <th>3</th>\n",
              "      <td>Minneapolis police officer Kim Potter guilty o...</td>\n",
              "      <td>[0, 0, 1, 0, 0, 0, 0, 0, 0, 0, 0, 0, 0, 0, 1]</td>\n",
              "    </tr>\n",
              "    <tr>\n",
              "      <th>4</th>\n",
              "      <td>Judy an update now to the wildfires that wiped...</td>\n",
              "      <td>[0, 0, 0, 0, 0, 0, 0, 0, 0, 0, 0, 0, 0, 1, 1]</td>\n",
              "    </tr>\n",
              "  </tbody>\n",
              "</table>\n",
              "</div>\n",
              "      <button class=\"colab-df-convert\" onclick=\"convertToInteractive('df-105ebf92-b07a-475c-8d25-932a0049fc9a')\"\n",
              "              title=\"Convert this dataframe to an interactive table.\"\n",
              "              style=\"display:none;\">\n",
              "        \n",
              "  <svg xmlns=\"http://www.w3.org/2000/svg\" height=\"24px\"viewBox=\"0 0 24 24\"\n",
              "       width=\"24px\">\n",
              "    <path d=\"M0 0h24v24H0V0z\" fill=\"none\"/>\n",
              "    <path d=\"M18.56 5.44l.94 2.06.94-2.06 2.06-.94-2.06-.94-.94-2.06-.94 2.06-2.06.94zm-11 1L8.5 8.5l.94-2.06 2.06-.94-2.06-.94L8.5 2.5l-.94 2.06-2.06.94zm10 10l.94 2.06.94-2.06 2.06-.94-2.06-.94-.94-2.06-.94 2.06-2.06.94z\"/><path d=\"M17.41 7.96l-1.37-1.37c-.4-.4-.92-.59-1.43-.59-.52 0-1.04.2-1.43.59L10.3 9.45l-7.72 7.72c-.78.78-.78 2.05 0 2.83L4 21.41c.39.39.9.59 1.41.59.51 0 1.02-.2 1.41-.59l7.78-7.78 2.81-2.81c.8-.78.8-2.07 0-2.86zM5.41 20L4 18.59l7.72-7.72 1.47 1.35L5.41 20z\"/>\n",
              "  </svg>\n",
              "      </button>\n",
              "      \n",
              "  <style>\n",
              "    .colab-df-container {\n",
              "      display:flex;\n",
              "      flex-wrap:wrap;\n",
              "      gap: 12px;\n",
              "    }\n",
              "\n",
              "    .colab-df-convert {\n",
              "      background-color: #E8F0FE;\n",
              "      border: none;\n",
              "      border-radius: 50%;\n",
              "      cursor: pointer;\n",
              "      display: none;\n",
              "      fill: #1967D2;\n",
              "      height: 32px;\n",
              "      padding: 0 0 0 0;\n",
              "      width: 32px;\n",
              "    }\n",
              "\n",
              "    .colab-df-convert:hover {\n",
              "      background-color: #E2EBFA;\n",
              "      box-shadow: 0px 1px 2px rgba(60, 64, 67, 0.3), 0px 1px 3px 1px rgba(60, 64, 67, 0.15);\n",
              "      fill: #174EA6;\n",
              "    }\n",
              "\n",
              "    [theme=dark] .colab-df-convert {\n",
              "      background-color: #3B4455;\n",
              "      fill: #D2E3FC;\n",
              "    }\n",
              "\n",
              "    [theme=dark] .colab-df-convert:hover {\n",
              "      background-color: #434B5C;\n",
              "      box-shadow: 0px 1px 3px 1px rgba(0, 0, 0, 0.15);\n",
              "      filter: drop-shadow(0px 1px 2px rgba(0, 0, 0, 0.3));\n",
              "      fill: #FFFFFF;\n",
              "    }\n",
              "  </style>\n",
              "\n",
              "      <script>\n",
              "        const buttonEl =\n",
              "          document.querySelector('#df-105ebf92-b07a-475c-8d25-932a0049fc9a button.colab-df-convert');\n",
              "        buttonEl.style.display =\n",
              "          google.colab.kernel.accessAllowed ? 'block' : 'none';\n",
              "\n",
              "        async function convertToInteractive(key) {\n",
              "          const element = document.querySelector('#df-105ebf92-b07a-475c-8d25-932a0049fc9a');\n",
              "          const dataTable =\n",
              "            await google.colab.kernel.invokeFunction('convertToInteractive',\n",
              "                                                     [key], {});\n",
              "          if (!dataTable) return;\n",
              "\n",
              "          const docLinkHtml = 'Like what you see? Visit the ' +\n",
              "            '<a target=\"_blank\" href=https://colab.research.google.com/notebooks/data_table.ipynb>data table notebook</a>'\n",
              "            + ' to learn more about interactive tables.';\n",
              "          element.innerHTML = '';\n",
              "          dataTable['output_type'] = 'display_data';\n",
              "          await google.colab.output.renderOutput(dataTable, element);\n",
              "          const docLink = document.createElement('div');\n",
              "          docLink.innerHTML = docLinkHtml;\n",
              "          element.appendChild(docLink);\n",
              "        }\n",
              "      </script>\n",
              "    </div>\n",
              "  </div>\n",
              "  "
            ]
          },
          "metadata": {},
          "execution_count": 3
        }
      ]
    },
    {
      "cell_type": "markdown",
      "source": [
        "#### Function for getting `pos_weight` for BCEWithLogitsLoss.\n",
        "It is a vector the size of the labels. This is used when there is an imbalance in labels\n",
        "distribution, especially for multi-label classification.\n",
        "\n",
        "For each label, it is calculated as the number of negative samples of that label divided by the number of positive samples of the same label."
      ],
      "metadata": {
        "id": "r5Y2FevM_seU"
      }
    },
    {
      "cell_type": "code",
      "source": [
        "def get_loss_pos_weights(labels):\n",
        "    label_count = len(ast.literal_eval(labels[0]))\n",
        "\n",
        "    positives = [0] * label_count\n",
        "    negatives = [0] * label_count\n",
        "\n",
        "    for label in labels:\n",
        "        label = ast.literal_eval(label)\n",
        "\n",
        "        for i, item in enumerate(label):\n",
        "            if item == 0:\n",
        "                negatives[i] += 1\n",
        "            else:\n",
        "                positives[i] += 1\n",
        "    \n",
        "    # division by zero exception\n",
        "    for i in range(label_count):\n",
        "        if positives[i] == 0:\n",
        "            positives[i] = 1\n",
        "    \n",
        "    weights = [negatives[i] / positives[i] for i in range(label_count)]\n",
        "\n",
        "    return weights"
      ],
      "metadata": {
        "id": "0MJEa1qyww0Z"
      },
      "execution_count": 4,
      "outputs": []
    },
    {
      "cell_type": "markdown",
      "source": [
        "#### Load tokenizer for BERT"
      ],
      "metadata": {
        "id": "YDd4UZuRBLPH"
      }
    },
    {
      "cell_type": "code",
      "source": [
        "tokenizer = BertTokenizer.from_pretrained('bert-base-uncased')"
      ],
      "metadata": {
        "id": "zBmD6KO6607u"
      },
      "execution_count": 5,
      "outputs": []
    },
    {
      "cell_type": "markdown",
      "source": [
        "#### Define dataset class"
      ],
      "metadata": {
        "id": "nu4IvodtBPkm"
      }
    },
    {
      "cell_type": "code",
      "source": [
        "class StoriesDataset(Dataset):\n",
        "    def __init__(self, df):\n",
        "        super().__init__()\n",
        "\n",
        "        self.text = [tokenizer(text, padding='max_length', max_length=512, truncation=True, return_tensors='pt') for text in df['body']]\n",
        "        self.labels = [torch.tensor(ast.literal_eval(label)).float() for label in df['labels'].values]\n",
        "        self.__size = len(self.text)\n",
        "    \n",
        "    def __len__(self):\n",
        "        return self.__size\n",
        "    \n",
        "    def __getitem__(self, idx):\n",
        "        return self.text[idx], self.labels[idx]"
      ],
      "metadata": {
        "id": "KQxCBNflqXlX"
      },
      "execution_count": 6,
      "outputs": []
    },
    {
      "cell_type": "markdown",
      "source": [
        "#### Define model class"
      ],
      "metadata": {
        "id": "F3zs4e7hBT2E"
      }
    },
    {
      "cell_type": "code",
      "source": [
        "class BertClassifier(nn.Module):\n",
        "    def __init__(self):\n",
        "        super().__init__()\n",
        "\n",
        "        self.bert = BertModel.from_pretrained('bert-base-multilingual-cased')\n",
        "        self.classifier = nn.Sequential(\n",
        "            nn.Dropout(p=0.5),\n",
        "            nn.Linear(768, 15),  # we have 15 labels\n",
        "        )\n",
        "    \n",
        "    def forward(self, input_ids, mask):\n",
        "        _, x = self.bert(input_ids=input_ids, attention_mask=mask, return_dict=False)  # taking only the pooled output\n",
        "        x = self.classifier(x)\n",
        "        \n",
        "        return x"
      ],
      "metadata": {
        "id": "_ErR8KOuveWr"
      },
      "execution_count": 7,
      "outputs": []
    },
    {
      "cell_type": "markdown",
      "source": [
        "#### Train and Validation functions"
      ],
      "metadata": {
        "id": "O4cqwBbZBZ0z"
      }
    },
    {
      "cell_type": "code",
      "source": [
        "def validate(model, validation_dataloader, criterion):\n",
        "    model.eval()\n",
        "\n",
        "    eval_loss = 0\n",
        "\n",
        "    with torch.no_grad():\n",
        "        for data, labels in tqdm(validation_dataloader):\n",
        "            data, labels = data.to(DEVICE), labels.to(DEVICE)\n",
        "\n",
        "            input_ids = data['input_ids'].squeeze(1)  # Bx1x512 -> Bx512\n",
        "            mask = data['attention_mask'].squeeze(1)  # Bx1x512 -> Bx512\n",
        "\n",
        "            preds = model(input_ids=input_ids, mask=mask)\n",
        "\n",
        "            loss = criterion(preds, labels)\n",
        "            eval_loss += loss.item()\n",
        "        \n",
        "        eval_loss = eval_loss / len(validation_dataloader)\n",
        "\n",
        "        return eval_loss\n",
        "\n",
        "\n",
        "def train(model, epochs, train_dataloader, validation_dataloader, criterion, optimizer, scheduler = None):\n",
        "    model.to(DEVICE)\n",
        "\n",
        "    best_val_loss = 0\n",
        "    train_loss, validation_loss = [], []\n",
        "\n",
        "    for epoch in range(epochs):\n",
        "        model.train()\n",
        "        epoch_loss = 0\n",
        "\n",
        "        for data, labels in tqdm(train_dataloader):\n",
        "            data, labels = data.to(DEVICE), labels.to(DEVICE)\n",
        "\n",
        "            input_ids = data['input_ids'].squeeze(1)  # Bx1x512 -> Bx512\n",
        "            mask = data['attention_mask'].squeeze(1)  # Bx1x512 -> Bx512\n",
        "            \n",
        "            optimizer.zero_grad()\n",
        "\n",
        "            preds = model(input_ids=input_ids, mask=mask)\n",
        "\n",
        "            loss = criterion(preds, labels)\n",
        "            loss.backward()\n",
        "            epoch_loss += loss.item()\n",
        "\n",
        "            optimizer.step()\n",
        "        \n",
        "        if scheduler:\n",
        "            scheduler.step()\n",
        "\n",
        "        epoch_loss = epoch_loss / len(train_dataloader)\n",
        "        train_loss.append(epoch_loss)\n",
        "\n",
        "        print(f'EPOCH {epoch + 1:4d} | LOSS: {epoch_loss:.4f}')\n",
        "        print('---------------------------------------------\\n')\n",
        "\n",
        "        eval_loss = validate(model, validation_dataloader, criterion)\n",
        "        validation_loss\n",
        "        print()\n",
        "        print('[|||||||||||||||||||||||||||||]')\n",
        "        print('| VALIDATION ROUND            |')\n",
        "        print(f'| VALID LOSS: {eval_loss:.4f}          |')    \n",
        "        print('[|||||||||||||||||||||||||||||]')\n",
        "        print()\n",
        "        print()\n",
        "\n",
        "        # saving the best model's weights\n",
        "        if epoch == 0:\n",
        "            best_val_loss = eval_loss\n",
        "            torch.save(model.state_dict(), 'bert_topic_classifier.pt')\n",
        "        elif eval_loss < best_val_loss:\n",
        "            best_val_loss = eval_loss\n",
        "            torch.save(model.state_dict(), 'bert_topic_classifier.pt')\n",
        "\n",
        "    return train_loss, validation_loss"
      ],
      "metadata": {
        "id": "CjxIW49LwgFU"
      },
      "execution_count": 8,
      "outputs": []
    },
    {
      "cell_type": "markdown",
      "source": [
        "#### Preparing train and validation datasets"
      ],
      "metadata": {
        "id": "8bj-0U7VBzT7"
      }
    },
    {
      "cell_type": "code",
      "source": [
        "from sklearn.model_selection import train_test_split\n",
        "\n",
        "\n",
        "df_train, df_valid = train_test_split(df, train_size=0.85, shuffle=True)\n",
        "loss_pos_weight = get_loss_pos_weights(df['labels'])\n",
        "\n",
        "BATCH_SIZE = 16\n",
        "train_dataloader = DataLoader(StoriesDataset(df_train), batch_size=BATCH_SIZE, shuffle=True)\n",
        "valid_dataloader = DataLoader(StoriesDataset(df_valid), batch_size=BATCH_SIZE // 2, shuffle=False)"
      ],
      "metadata": {
        "id": "BXDgACW-wjaF"
      },
      "execution_count": 9,
      "outputs": []
    },
    {
      "cell_type": "markdown",
      "source": [
        "#### Prepare model and training parameters"
      ],
      "metadata": {
        "id": "O-1h1db8B9AF"
      }
    },
    {
      "cell_type": "code",
      "source": [
        "EPOCHS = 5\n",
        "\n",
        "model = BertClassifier()\n",
        "criterion = nn.BCEWithLogitsLoss(pos_weight=torch.tensor(loss_pos_weight).to(DEVICE))\n",
        "optimizer = optim.AdamW(model.parameters(), lr=0.0001)\n",
        "scheduler = optim.lr_scheduler.StepLR(optimizer, step_size=1, gamma=0.8)"
      ],
      "metadata": {
        "id": "swGd3lIOwvGF"
      },
      "execution_count": 10,
      "outputs": []
    },
    {
      "cell_type": "markdown",
      "source": [
        "#### Train"
      ],
      "metadata": {
        "id": "NJuI5yKACK3q"
      }
    },
    {
      "cell_type": "code",
      "source": [
        "train_loss, validation_loss = train(model, EPOCHS, train_dataloader, valid_dataloader, criterion, optimizer, scheduler)"
      ],
      "metadata": {
        "colab": {
          "base_uri": "https://localhost:8080/"
        },
        "id": "t0yEvp09w97v",
        "outputId": "7b96d308-23dc-4593-9b4c-c7429000be77"
      },
      "execution_count": 11,
      "outputs": [
        {
          "output_type": "stream",
          "name": "stderr",
          "text": [
            "100%|██████████| 274/274 [07:00<00:00,  1.53s/it]\n"
          ]
        },
        {
          "output_type": "stream",
          "name": "stdout",
          "text": [
            "EPOCH    1 | LOSS: 1.2550\n",
            "---------------------------------------------\n",
            "\n"
          ]
        },
        {
          "output_type": "stream",
          "name": "stderr",
          "text": [
            "100%|██████████| 97/97 [00:26<00:00,  3.66it/s]\n"
          ]
        },
        {
          "output_type": "stream",
          "name": "stdout",
          "text": [
            "\n",
            "[|||||||||||||||||||||||||||||]\n",
            "| VALIDATION ROUND            |\n",
            "| VALID LOSS: 1.3026          |\n",
            "[|||||||||||||||||||||||||||||]\n",
            "\n",
            "\n"
          ]
        },
        {
          "output_type": "stream",
          "name": "stderr",
          "text": [
            "100%|██████████| 274/274 [06:59<00:00,  1.53s/it]\n"
          ]
        },
        {
          "output_type": "stream",
          "name": "stdout",
          "text": [
            "EPOCH    2 | LOSS: 1.2501\n",
            "---------------------------------------------\n",
            "\n"
          ]
        },
        {
          "output_type": "stream",
          "name": "stderr",
          "text": [
            "100%|██████████| 97/97 [00:26<00:00,  3.67it/s]\n"
          ]
        },
        {
          "output_type": "stream",
          "name": "stdout",
          "text": [
            "\n",
            "[|||||||||||||||||||||||||||||]\n",
            "| VALIDATION ROUND            |\n",
            "| VALID LOSS: 1.3332          |\n",
            "[|||||||||||||||||||||||||||||]\n",
            "\n",
            "\n"
          ]
        },
        {
          "output_type": "stream",
          "name": "stderr",
          "text": [
            "100%|██████████| 274/274 [06:59<00:00,  1.53s/it]\n"
          ]
        },
        {
          "output_type": "stream",
          "name": "stdout",
          "text": [
            "EPOCH    3 | LOSS: 1.2513\n",
            "---------------------------------------------\n",
            "\n"
          ]
        },
        {
          "output_type": "stream",
          "name": "stderr",
          "text": [
            "100%|██████████| 97/97 [00:26<00:00,  3.65it/s]\n"
          ]
        },
        {
          "output_type": "stream",
          "name": "stdout",
          "text": [
            "\n",
            "[|||||||||||||||||||||||||||||]\n",
            "| VALIDATION ROUND            |\n",
            "| VALID LOSS: 1.3039          |\n",
            "[|||||||||||||||||||||||||||||]\n",
            "\n",
            "\n"
          ]
        },
        {
          "output_type": "stream",
          "name": "stderr",
          "text": [
            "100%|██████████| 274/274 [06:59<00:00,  1.53s/it]\n"
          ]
        },
        {
          "output_type": "stream",
          "name": "stdout",
          "text": [
            "EPOCH    4 | LOSS: 1.2496\n",
            "---------------------------------------------\n",
            "\n"
          ]
        },
        {
          "output_type": "stream",
          "name": "stderr",
          "text": [
            "100%|██████████| 97/97 [00:26<00:00,  3.67it/s]\n"
          ]
        },
        {
          "output_type": "stream",
          "name": "stdout",
          "text": [
            "\n",
            "[|||||||||||||||||||||||||||||]\n",
            "| VALIDATION ROUND            |\n",
            "| VALID LOSS: 1.3061          |\n",
            "[|||||||||||||||||||||||||||||]\n",
            "\n",
            "\n"
          ]
        },
        {
          "output_type": "stream",
          "name": "stderr",
          "text": [
            "100%|██████████| 274/274 [06:59<00:00,  1.53s/it]\n"
          ]
        },
        {
          "output_type": "stream",
          "name": "stdout",
          "text": [
            "EPOCH    5 | LOSS: 1.2485\n",
            "---------------------------------------------\n",
            "\n"
          ]
        },
        {
          "output_type": "stream",
          "name": "stderr",
          "text": [
            "100%|██████████| 97/97 [00:26<00:00,  3.68it/s]\n"
          ]
        },
        {
          "output_type": "stream",
          "name": "stdout",
          "text": [
            "\n",
            "[|||||||||||||||||||||||||||||]\n",
            "| VALIDATION ROUND            |\n",
            "| VALID LOSS: 1.2988          |\n",
            "[|||||||||||||||||||||||||||||]\n",
            "\n",
            "\n"
          ]
        }
      ]
    },
    {
      "cell_type": "markdown",
      "source": [
        "#### Reading final dataframe"
      ],
      "metadata": {
        "id": "hCSBxI4wOV_X"
      }
    },
    {
      "cell_type": "code",
      "source": [
        "final = pd.read_csv('/content/to_fill_proccessed.csv')"
      ],
      "metadata": {
        "id": "rSSQO3MsxCQY"
      },
      "execution_count": 12,
      "outputs": []
    },
    {
      "cell_type": "markdown",
      "source": [
        "#### Write a function to infere the text"
      ],
      "metadata": {
        "id": "7VNGR0xVK5q6"
      }
    },
    {
      "cell_type": "code",
      "source": [
        "def infere_text(model: nn.Module, text: str):\n",
        "    tokenized_text = tokenizer(text, padding='max_length', max_length=512, truncation=True, return_tensors='pt')\n",
        "    \n",
        "    input_ids = tokenized_text['input_ids']\n",
        "    mask = tokenized_text['attention_mask']\n",
        "\n",
        "    model.to('cpu')\n",
        "    model.eval()\n",
        "    with torch.no_grad():\n",
        "        return model(input_ids=input_ids, mask=mask)"
      ],
      "metadata": {
        "id": "aNOCy74F66ZR"
      },
      "execution_count": 14,
      "outputs": []
    },
    {
      "cell_type": "markdown",
      "source": [
        "#### Checking the output"
      ],
      "metadata": {
        "id": "Bxp7KKNjK9Ck"
      }
    },
    {
      "cell_type": "code",
      "source": [
        "index = 1\n",
        "output = infere_text(model, df_train['body'].iloc[index])\n",
        "print(df_train['labels'].iloc[index])\n",
        "print(output[0].sigmoid().numpy().tolist())"
      ],
      "metadata": {
        "colab": {
          "base_uri": "https://localhost:8080/"
        },
        "id": "eIZRHYfvDWvv",
        "outputId": "675846fd-2d42-47cd-966c-a97d8e42b2d5"
      },
      "execution_count": 15,
      "outputs": [
        {
          "output_type": "stream",
          "name": "stdout",
          "text": [
            "[0, 0, 0, 0, 0, 0, 0, 0, 0, 0, 0, 0, 0, 0, 1]\n",
            "[0.4622751772403717, 0.49163854122161865, 0.5101140737533569, 0.5118148922920227, 0.4966602921485901, 0.47596871852874756, 0.4965690076351166, 0.5146575570106506, 0.503700315952301, 0.5132160186767578, 0.5153558254241943, 0.44886836409568787, 0.5017725825309753, 0.5090907216072083, 0.49593818187713623]\n"
          ]
        }
      ]
    },
    {
      "cell_type": "markdown",
      "source": [
        "From here on, we notice the model overfits to outputting the same values no matter the input text. This is not desirable and is a failure.\n",
        "One way to fix this would be to fine-tune 15 seperate BERT models on each label, which is\n",
        "left for another day as this is an interview task that is time-sensitive :)"
      ],
      "metadata": {
        "id": "kPdKc2I2LAQ_"
      }
    },
    {
      "cell_type": "code",
      "source": [
        "output = infere_text(model, final['body'][0])\n",
        "F.sigmoid(output)"
      ],
      "metadata": {
        "colab": {
          "base_uri": "https://localhost:8080/"
        },
        "id": "8irCpNfj74MB",
        "outputId": "ee885021-5fda-4285-f551-8f2ca71f9aed"
      },
      "execution_count": 16,
      "outputs": [
        {
          "output_type": "execute_result",
          "data": {
            "text/plain": [
              "tensor([[0.4623, 0.4916, 0.5101, 0.5118, 0.4967, 0.4760, 0.4966, 0.5147, 0.5037,\n",
              "         0.5132, 0.5154, 0.4489, 0.5018, 0.5091, 0.4959]])"
            ]
          },
          "metadata": {},
          "execution_count": 16
        }
      ]
    },
    {
      "cell_type": "code",
      "source": [
        "infere_text(model, final['body'][4]).sigmoid()"
      ],
      "metadata": {
        "colab": {
          "base_uri": "https://localhost:8080/"
        },
        "id": "Q4e57EJm-mhH",
        "outputId": "f6bf6b64-2d86-491b-fce2-3f5bdd178941"
      },
      "execution_count": 18,
      "outputs": [
        {
          "output_type": "execute_result",
          "data": {
            "text/plain": [
              "tensor([[0.4623, 0.4916, 0.5101, 0.5118, 0.4967, 0.4760, 0.4966, 0.5147, 0.5037,\n",
              "         0.5132, 0.5154, 0.4489, 0.5018, 0.5091, 0.4959]])"
            ]
          },
          "metadata": {},
          "execution_count": 18
        }
      ]
    },
    {
      "cell_type": "code",
      "source": [
        "infere_text(model, final['body'][12]).sigmoid()"
      ],
      "metadata": {
        "colab": {
          "base_uri": "https://localhost:8080/"
        },
        "id": "1u_PqBLp-nNG",
        "outputId": "14bc8450-89bd-49f0-edc4-756e95f6d244"
      },
      "execution_count": 19,
      "outputs": [
        {
          "output_type": "execute_result",
          "data": {
            "text/plain": [
              "tensor([[0.4623, 0.4916, 0.5101, 0.5118, 0.4967, 0.4760, 0.4966, 0.5147, 0.5037,\n",
              "         0.5132, 0.5154, 0.4489, 0.5018, 0.5091, 0.4959]])"
            ]
          },
          "metadata": {},
          "execution_count": 19
        }
      ]
    }
  ]
}